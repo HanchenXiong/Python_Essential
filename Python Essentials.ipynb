{
 "cells": [
  {
   "cell_type": "markdown",
   "metadata": {},
   "source": [
    "# Data Structures"
   ]
  },
  {
   "cell_type": "markdown",
   "metadata": {},
   "source": [
    "## list"
   ]
  },
  {
   "cell_type": "code",
   "execution_count": 52,
   "metadata": {
    "collapsed": false
   },
   "outputs": [
    {
     "name": "stdout",
     "output_type": "stream",
     "text": [
      "2\n"
     ]
    }
   ],
   "source": [
    "numbers = [0,1,2,3,4,5,6]\n",
    "print(numbers[2])"
   ]
  },
  {
   "cell_type": "markdown",
   "metadata": {},
   "source": [
    "## map function for lists"
   ]
  },
  {
   "cell_type": "code",
   "execution_count": 55,
   "metadata": {
    "collapsed": false
   },
   "outputs": [
    {
     "name": "stdout",
     "output_type": "stream",
     "text": [
      "[20, 60, 150]\n"
     ]
    }
   ],
   "source": [
    "income = [10, 30, 75]\n",
    "\n",
    "def double_money(dollars):\n",
    "    return dollars * 2\n",
    "\n",
    "new_income = list(map(double_money, income))     # go through each item in the list(income) and apply the function\n",
    "print(new_income)"
   ]
  },
  {
   "cell_type": "markdown",
   "metadata": {},
   "source": [
    "## sets\n",
    "sets can be used as containers for unique values, *i.e. no repeated elements* "
   ]
  },
  {
   "cell_type": "code",
   "execution_count": 3,
   "metadata": {
    "collapsed": false
   },
   "outputs": [
    {
     "name": "stdout",
     "output_type": "stream",
     "text": [
      "{'milk', 'beer', 'lotion', 'cereal'}\n"
     ]
    }
   ],
   "source": [
    "groceries = {\"cereal\", \"milk\", \"beer\", \"lotion\", \"beer\"}\n",
    "print(groceries)"
   ]
  },
  {
   "cell_type": "code",
   "execution_count": 6,
   "metadata": {
    "collapsed": false
   },
   "outputs": [
    {
     "name": "stdout",
     "output_type": "stream",
     "text": [
      "You already have milk here\n"
     ]
    }
   ],
   "source": [
    "if \"milk\" in groceries:\n",
    "    print (\"You already have milk here\")\n",
    "else:\n",
    "    print (\"I think you forget milk\")"
   ]
  },
  {
   "cell_type": "markdown",
   "metadata": {},
   "source": [
    "## dictionary\n",
    "a dictionary is a container for key-value-parir elements"
   ]
  },
  {
   "cell_type": "code",
   "execution_count": 21,
   "metadata": {
    "collapsed": false
   },
   "outputs": [
    {
     "name": "stdout",
     "output_type": "stream",
     "text": [
      "{'Lucy': 'asks too many question', 'Emma': 'sits behind me', 'Tony': 'cool but smells'}\n"
     ]
    }
   ],
   "source": [
    "classmates = {'Tony': \"cool but smells\", 'Emma': 'sits behind me', 'Lucy': 'asks too many question'}\n",
    "print(classmates)"
   ]
  },
  {
   "cell_type": "markdown",
   "metadata": {},
   "source": [
    "* values can be retrieved by specifying keys"
   ]
  },
  {
   "cell_type": "code",
   "execution_count": 22,
   "metadata": {
    "collapsed": false
   },
   "outputs": [
    {
     "name": "stdout",
     "output_type": "stream",
     "text": [
      "sits behind me\n"
     ]
    }
   ],
   "source": [
    "print(classmates['Emma'])"
   ]
  },
  {
   "cell_type": "markdown",
   "metadata": {},
   "source": [
    "* loop the pairs within a dictionary "
   ]
  },
  {
   "cell_type": "code",
   "execution_count": 37,
   "metadata": {
    "collapsed": false
   },
   "outputs": [
    {
     "name": "stdout",
     "output_type": "stream",
     "text": [
      "Lucy asks too many question\n",
      "Emma sits behind me\n",
      "Tony cool but smells\n"
     ]
    }
   ],
   "source": [
    "for k,v in classmates.items():\n",
    "    print (k,v)"
   ]
  },
  {
   "cell_type": "markdown",
   "metadata": {},
   "source": [
    "## unpack list or tuples"
   ]
  },
  {
   "cell_type": "code",
   "execution_count": 27,
   "metadata": {
    "collapsed": false
   },
   "outputs": [
    {
     "name": "stdout",
     "output_type": "stream",
     "text": [
      "December 23, 2015\n",
      "8.51\n",
      "12\n",
      "[23, 45, 31, 35, 66, 75]\n",
      "29\n"
     ]
    }
   ],
   "source": [
    "item = ['December 23, 2015', 'Bread Gloves', 8.51]\n",
    "print (item[0])\n",
    "\n",
    "date, item, price = ['December 23, 2015', 'Bread Gloves', 8.51]  # make sure that the number variables equals the length of the list\n",
    "print(price)\n",
    "\n",
    "grades = [12, 23, 45, 31, 35, 66, 75, 29]\n",
    "first, *middle, last = grades\n",
    "print(first)\n",
    "print(middle)\n",
    "print(last)"
   ]
  },
  {
   "cell_type": "markdown",
   "metadata": {},
   "source": [
    "## zip"
   ]
  },
  {
   "cell_type": "code",
   "execution_count": 32,
   "metadata": {
    "collapsed": false
   },
   "outputs": [
    {
     "name": "stdout",
     "output_type": "stream",
     "text": [
      "<zip object at 0x7f623914c148>\n",
      "Bucky Roberts\n",
      "Tom Hanks\n",
      "Taylor Swift\n"
     ]
    }
   ],
   "source": [
    "first = ['Bucky', 'Tom', 'Taylor']\n",
    "last = ['Roberts', 'Hanks', 'Swift']\n",
    "\n",
    "names = zip(first, last)\n",
    "# zip is making a Tuple: [('Bucky', 'Roberts'), ('Tom', 'Hanks), ('Taylor', 'Swift')]\n",
    "\n",
    "print(names)\n",
    "for a,b in names:\n",
    "    print(a,b)"
   ]
  },
  {
   "cell_type": "markdown",
   "metadata": {},
   "source": [
    "# min, max and sorting dictionary"
   ]
  },
  {
   "cell_type": "code",
   "execution_count": 42,
   "metadata": {
    "collapsed": false
   },
   "outputs": [
    {
     "name": "stdout",
     "output_type": "stream",
     "text": [
      "(39.28, 'YHOO')\n",
      "(520.54, 'GOOG')\n",
      "[(39.28, 'YHOO'), (76.45, 'FB'), (99.76, 'APPL'), (306.21, 'AMZN'), (520.54, 'GOOG')]\n",
      "[('AMZN', 306.21), ('APPL', 99.76), ('FB', 76.45), ('GOOG', 520.54), ('YHOO', 39.28)]\n"
     ]
    }
   ],
   "source": [
    "stocks = {\n",
    "    'GOOG': 520.54,\n",
    "    'FB':   76.45,\n",
    "    'YHOO': 39.28,\n",
    "    'APPL': 99.76,\n",
    "    'AMZN': 306.21,\n",
    "}\n",
    "\n",
    "min_item = min(zip(stocks.values(), stocks.keys()))    # item with max value\n",
    "print(min_item)\n",
    "\n",
    "max_item = max(zip(stocks.values(), stocks.keys()))\n",
    "print(max_item)\n",
    "\n",
    "print( sorted(zip(stocks.values(), stocks.keys())))   # sort by values\n",
    "print( sorted(zip(stocks.keys(), stocks.values())))   # sort by keys"
   ]
  },
  {
   "cell_type": "markdown",
   "metadata": {},
   "source": [
    "# Module\n",
    "* we can reuse some code by putting them in a module (file) ,and use **`import moduel_name`** to access those functions\n",
    "* use the function of a module should be ** `moduel_name.function_name` ** "
   ]
  },
  {
   "cell_type": "markdown",
   "metadata": {},
   "source": [
    "## import and use module"
   ]
  },
  {
   "cell_type": "code",
   "execution_count": 18,
   "metadata": {
    "collapsed": false
   },
   "outputs": [
    {
     "name": "stdout",
     "output_type": "stream",
     "text": [
      "688\n"
     ]
    }
   ],
   "source": [
    "import random\n",
    "\n",
    "x = random.randrange(1,1000)\n",
    "print(x)"
   ]
  },
  {
   "cell_type": "markdown",
   "metadata": {},
   "source": [
    "## functions"
   ]
  },
  {
   "cell_type": "code",
   "execution_count": 33,
   "metadata": {
    "collapsed": false
   },
   "outputs": [],
   "source": [
    "import urllib\n",
    "\n",
    "def download_web_image(url):\n",
    "    name = random.randranage(1,1000)\n",
    "    full_name = str(name) + \".jpg\"\n",
    "    urllib.request.urlretrieve(url, full_name)"
   ]
  },
  {
   "cell_type": "markdown",
   "metadata": {},
   "source": [
    "## lambda \n",
    "some small functions which are used only one time, no function name "
   ]
  },
  {
   "cell_type": "code",
   "execution_count": 36,
   "metadata": {
    "collapsed": false
   },
   "outputs": [
    {
     "name": "stdout",
     "output_type": "stream",
     "text": [
      "35\n"
     ]
    }
   ],
   "source": [
    "answer = lambda x: x*7\n",
    "print(answer(5))"
   ]
  },
  {
   "cell_type": "code",
   "execution_count": null,
   "metadata": {
    "collapsed": true
   },
   "outputs": [],
   "source": []
  },
  {
   "cell_type": "markdown",
   "metadata": {},
   "source": [
    "# IO"
   ]
  },
  {
   "cell_type": "markdown",
   "metadata": {},
   "source": [
    "## read and write an file"
   ]
  },
  {
   "cell_type": "code",
   "execution_count": 27,
   "metadata": {
    "collapsed": false
   },
   "outputs": [],
   "source": [
    "# write to a file\n",
    "fw = open('sample.txt', 'w')   # open a file and write some data into it and return a file object\n",
    "fw.write('this is a test \\n')\n",
    "fw.write('I like bacon \\n')\n",
    "fw.close()"
   ]
  },
  {
   "cell_type": "code",
   "execution_count": null,
   "metadata": {
    "collapsed": true
   },
   "outputs": [],
   "source": [
    "# read a file\n",
    "fr = open('sample.txt', 'r') \n",
    "text = fr.read()\n",
    "print(text)\n",
    "fr.close()"
   ]
  },
  {
   "cell_type": "markdown",
   "metadata": {
    "collapsed": true
   },
   "source": [
    "## read a file from internet"
   ]
  },
  {
   "cell_type": "code",
   "execution_count": 8,
   "metadata": {
    "collapsed": true
   },
   "outputs": [],
   "source": [
    "from urllib import request\n",
    "google_url = 'http://real-chart.finance.yahoo.com/table.csv?s=GOOGL&d=4&e=8&f=2016&g=d&a=7&b=19&c=2004&ignore=.csv'\n",
    "def download_stock_data(csv_url):\n",
    "    response = request.urlopen(csv_url)\n",
    "    csv = response.read()\n",
    "    csv_str = str(csv)  # ensure that the data for processing is in string format\n",
    "    lines = csv_str.split(r\"\\n\")\n",
    "    dest_url = r\"goog.csv\"     # it is always a good practice to start with 'r' for path or files\n",
    "    fx = open(dest_url, \"w\")\n",
    "    for line in lines:\n",
    "        fx.write(line + \"\\n\")\n",
    "    fx.close()\n",
    "\n",
    "download_stock_data(google_url)"
   ]
  },
  {
   "cell_type": "markdown",
   "metadata": {},
   "source": [
    "# Exceptions"
   ]
  },
  {
   "cell_type": "markdown",
   "metadata": {},
   "source": [
    "## ValueError Exception"
   ]
  },
  {
   "cell_type": "code",
   "execution_count": null,
   "metadata": {
    "collapsed": false
   },
   "outputs": [],
   "source": [
    "number = int(input(\"What's your favoriate number ?\\n\"))\n",
    "print(number)"
   ]
  },
  {
   "cell_type": "code",
   "execution_count": 17,
   "metadata": {
    "collapsed": false
   },
   "outputs": [
    {
     "name": "stdout",
     "output_type": "stream",
     "text": [
      "What is your favorite number? \n",
      "3\n",
      "3\n"
     ]
    }
   ],
   "source": [
    "while True:\n",
    "    try:\n",
    "        number = int(input(\"What is your favorite number? \\n\"))\n",
    "        print(number)\n",
    "        break\n",
    "    except ValueError:\n",
    "        print(\"make sure that your input is a number\")"
   ]
  },
  {
   "cell_type": "markdown",
   "metadata": {},
   "source": [
    "## ZeroDivisionError"
   ]
  },
  {
   "cell_type": "code",
   "execution_count": 18,
   "metadata": {
    "collapsed": false
   },
   "outputs": [
    {
     "name": "stdout",
     "output_type": "stream",
     "text": [
      "What is your favorite number? \n",
      "3\n",
      "3.3333333333333335\n"
     ]
    }
   ],
   "source": [
    "while True:\n",
    "    try:\n",
    "        number = int(input(\"What is your favorite number? \\n\"))\n",
    "        print(10/number)\n",
    "        break\n",
    "    except ValueError:\n",
    "        print(\"make sure that your input is a number\")\n",
    "    except ZeroDivisionError:\n",
    "        print(\"do not pick zero\")"
   ]
  },
  {
   "cell_type": "markdown",
   "metadata": {},
   "source": [
    "## Finally"
   ]
  },
  {
   "cell_type": "code",
   "execution_count": null,
   "metadata": {
    "collapsed": true
   },
   "outputs": [],
   "source": [
    "while True:\n",
    "    try:\n",
    "        number = int(input(\"What is your favorite number? \\n\"))\n",
    "        print(10/number)\n",
    "        break\n",
    "    except ValueError:\n",
    "        print(\"make sure that your input is a number\")\n",
    "    except ZeroDivisionError:\n",
    "        print(\"do not pick zero\")\n",
    "    except: \n",
    "        break    # do not recommend to use general exceptions\n",
    "    finally:\n",
    "        print(\"loop complete\")"
   ]
  },
  {
   "cell_type": "markdown",
   "metadata": {},
   "source": [
    "# Project I: a simple web crawler"
   ]
  },
  {
   "cell_type": "code",
   "execution_count": 21,
   "metadata": {
    "collapsed": false
   },
   "outputs": [],
   "source": [
    "from bs4 import BeautifulSoup\n",
    "import requests\n",
    "\n",
    "def trade_spider(max_pages):\n",
    "    page = 1\n",
    "    while page < max_pages:\n",
    "        url = \"https://www.zalando.de/herrenschuhe/?p=\" + str(page)\n",
    "        souce_code = requests.get(url)\n",
    "        plain_text = source_code.text\n",
    "        soup = BeautifulSoup(plain_text) # better check BeautifulSoup4 homepage to its functions\n",
    "        for link in soup.findAll('a', {'class':'item-name'}):\n",
    "            title = link.string\n",
    "            print(title)\n",
    "            "
   ]
  },
  {
   "cell_type": "markdown",
   "metadata": {},
   "source": [
    "# Classes and Instances"
   ]
  },
  {
   "cell_type": "code",
   "execution_count": 22,
   "metadata": {
    "collapsed": false
   },
   "outputs": [
    {
     "name": "stdout",
     "output_type": "stream",
     "text": [
      "ouch\n",
      "2 life left\n"
     ]
    }
   ],
   "source": [
    "class Enemy:\n",
    "    life = 3\n",
    "    \n",
    "    def attack(self):    # why always needs a self argument ? explain in the following\n",
    "        print(\"ouch\")\n",
    "        self.life -= 1   # self is necessary to access class's atrributes, \n",
    "        \n",
    "    def checkLife(self):\n",
    "        if self.life <= 0:\n",
    "            print(\"I am dead\")\n",
    "        else:\n",
    "            print(str(self.life) + ' life left' )\n",
    "\n",
    "enemy1 = Enemy()\n",
    "enemy1.attack()\n",
    "enemy1.checkLife()"
   ]
  },
  {
   "cell_type": "markdown",
   "metadata": {},
   "source": [
    "## __init__ function\n",
    "an initializing function, it will be always executed when an object is established"
   ]
  },
  {
   "cell_type": "code",
   "execution_count": 24,
   "metadata": {
    "collapsed": false
   },
   "outputs": [
    {
     "name": "stdout",
     "output_type": "stream",
     "text": [
      "Bobobaoabaoba\n",
      "I am swiming now\n"
     ]
    }
   ],
   "source": [
    "class Tuna:\n",
    "    def __init__(self):\n",
    "        print(\"Bobobaoabaoba\")\n",
    "        \n",
    "    def swim(self):\n",
    "        print(\"I am swiming now\")\n",
    "        \n",
    "flipper = Tuna()\n",
    "flipper.swim()"
   ]
  },
  {
   "cell_type": "code",
   "execution_count": 26,
   "metadata": {
    "collapsed": false
   },
   "outputs": [
    {
     "name": "stdout",
     "output_type": "stream",
     "text": [
      "5\n"
     ]
    }
   ],
   "source": [
    "class Enemy:\n",
    "    def __init__(self, x):\n",
    "        self.energy = x\n",
    "        \n",
    "    def get_energy(self):\n",
    "        print(self.energy)\n",
    "        \n",
    "jason = Enemy(5)\n",
    "jason.get_energy()"
   ]
  },
  {
   "cell_type": "markdown",
   "metadata": {},
   "source": [
    "## class and Instance variables"
   ]
  },
  {
   "cell_type": "code",
   "execution_count": 29,
   "metadata": {
    "collapsed": false
   },
   "outputs": [
    {
     "name": "stdout",
     "output_type": "stream",
     "text": [
      "female Rachel\n",
      "female Stanky\n"
     ]
    }
   ],
   "source": [
    "class Girls:\n",
    "    gender = \"female\"        # gender is a class variable\n",
    "    \n",
    "    def __init__(self, name):\n",
    "        self.name = name     # name is an instance variable\n",
    "        \n",
    "r = Girls(\"Rachel\")\n",
    "s = Girls(\"Stanky\")\n",
    "print(r.gender, r.name)\n",
    "print(s.gender, s.name)"
   ]
  },
  {
   "cell_type": "markdown",
   "metadata": {},
   "source": [
    "## inheritance"
   ]
  },
  {
   "cell_type": "code",
   "execution_count": 33,
   "metadata": {
    "collapsed": false
   },
   "outputs": [
    {
     "name": "stdout",
     "output_type": "stream",
     "text": [
      "Robert\n",
      "Tommy\n"
     ]
    }
   ],
   "source": [
    "class Parent:\n",
    "    def print_last_name(self):\n",
    "        print(\"Robert\")\n",
    "        \n",
    "\n",
    "class Child(Parent):           # () specifies inheritance from a parental Class\n",
    "    def print_firs_name(self):\n",
    "        print(\"Tommy\")\n",
    "        \n",
    "        \n",
    "butty = Child()\n",
    "butty.print_last_name()\n",
    "butty.print_firs_name()"
   ]
  },
  {
   "cell_type": "markdown",
   "metadata": {},
   "source": [
    "## override in inheritance"
   ]
  },
  {
   "cell_type": "code",
   "execution_count": 35,
   "metadata": {
    "collapsed": false
   },
   "outputs": [
    {
     "name": "stdout",
     "output_type": "stream",
     "text": [
      "a_make_up_name\n",
      "Tommy\n"
     ]
    }
   ],
   "source": [
    "class Parent:\n",
    "    def print_last_name(self):\n",
    "        print(\"Robert\")\n",
    "        \n",
    "\n",
    "class Child(Parent):           # () specifies inheritance from a parental Class\n",
    "    def print_firs_name(self):\n",
    "        print(\"Tommy\")\n",
    "        \n",
    "    def print_last_name(self):  # the child class can override a parental function\n",
    "        print(\"a_make_up_name\")\n",
    "        \n",
    "butty = Child()\n",
    "butty.print_last_name()\n",
    "butty.print_firs_name()"
   ]
  },
  {
   "cell_type": "markdown",
   "metadata": {},
   "source": [
    "## multiple inheritances"
   ]
  },
  {
   "cell_type": "code",
   "execution_count": 2,
   "metadata": {
    "collapsed": false
   },
   "outputs": [
    {
     "name": "stdout",
     "output_type": "stream",
     "text": [
      "I am moving!\n",
      "I am big!\n"
     ]
    }
   ],
   "source": [
    "class Mario():\n",
    "    def move(self):\n",
    "        print(\"I am moving!\")\n",
    "        \n",
    "class Shroom():\n",
    "    def eat_shroom(self):\n",
    "        print(\"I am big!\")\n",
    "        \n",
    "\n",
    "class BigMario(Mario, Shroom):\n",
    "    pass       # you need a line for syntax coherence but functionally useless\n",
    "\n",
    "bm = BigMario()\n",
    "bm.move()\n",
    "bm.eat_shroom()"
   ]
  },
  {
   "cell_type": "markdown",
   "metadata": {},
   "source": [
    "# Threading"
   ]
  },
  {
   "cell_type": "code",
   "execution_count": 10,
   "metadata": {
    "collapsed": false
   },
   "outputs": [
    {
     "name": "stdout",
     "output_type": "stream",
     "text": [
      "receive the messages\n",
      "receive the messages\n",
      "receive the messages\n",
      "receive the messages\n",
      "receive the messages\n",
      "send the messages\n",
      "send the messages\n",
      "send the messages\n",
      "send the messages\n",
      "send the messages\n"
     ]
    }
   ],
   "source": [
    "import threading\n",
    "\n",
    "class BuckysMessager(threading.Thread):    # inherit from threading\n",
    "    def run(self):\n",
    "        for _ in range(5):    # we just want to loop 10 times and do not care about the variable, so use under_score\n",
    "            print(threading.currentThread().getName())\n",
    "            \n",
    "            \n",
    "messager1 = BuckysMessager(name = \"send the messages\")       # one built-in property of thread is name\n",
    "messager2 = BuckysMessager(name = \"receive the messages\")  \n",
    "\n",
    "messager2.start()\n",
    "messager1.start()       # start() will automatically trigger run()\n"
   ]
  },
  {
   "cell_type": "markdown",
   "metadata": {},
   "source": [
    "# Project II: word counter"
   ]
  },
  {
   "cell_type": "code",
   "execution_count": 43,
   "metadata": {
    "collapsed": false
   },
   "outputs": [
    {
     "name": "stdout",
     "output_type": "stream",
     "text": [
      "reason 1\n",
      "gaussian 1\n",
      "betting 1\n",
      "lindley 1\n",
      "permutation 1\n",
      "berger 1\n",
      "justificationist 1\n",
      "kiefer 1\n",
      "regression 1\n",
      "dennis 1\n",
      "confidence 1\n",
      "continuous 1\n",
      "estimation 1\n",
      "jeffrey 1\n",
      "statistical 1\n",
      "j 1\n",
      "o 1\n",
      "residuals 1\n",
      "reasonable 1\n",
      "power 1\n",
      "doubt 1\n",
      "glenn 1\n",
      "shafer 1\n",
      "bsts 1\n",
      "circle 1\n",
      "signed-rank 1\n",
      "insufficient 1\n",
      "kendalls 1\n",
      "structural 1\n",
      "richard 1\n",
      "unbiased 1\n",
      "c 1\n",
      "david 1\n",
      "validation 1\n",
      "epistemology 1\n",
      "testing 1\n",
      "e-mail 1\n",
      "james 1\n",
      "data 1\n",
      "series 1\n",
      "predictive 1\n",
      "median 1\n",
      "theory 1\n",
      "intervals 1\n",
      "randomization 1\n",
      "decision 1\n",
      "razor 1\n",
      "significance 1\n",
      "beyond 1\n",
      "estimator 1\n",
      "errors 1\n",
      "consequence 1\n",
      "trend 1\n",
      "odds 1\n",
      "time 1\n",
      "decision-theoretic 1\n",
      "selection 1\n",
      "hypothesis 1\n",
      "tau 1\n",
      "of 1\n",
      "parameter 1\n",
      "principle 1\n",
      "adams 1\n",
      "occam’s 1\n",
      "spam 1\n",
      "vicious 1\n",
      "statistics 2\n",
      "cox 2\n",
      "prior 2\n",
      "a 2\n",
      "v 2\n",
      "test 2\n",
      "freedman 2\n",
      "model 2\n",
      "posterior 2\n",
      "d 2\n",
      "bayesian 3\n",
      "vector 3\n",
      "identically 3\n",
      "frequentist 3\n",
      "distributed 3\n",
      "independent 3\n",
      "r 3\n",
      "and 4\n",
      "distribution 5\n"
     ]
    }
   ],
   "source": [
    "import requests\n",
    "from bs4 import BeautifulSoup\n",
    "import operator\n",
    "\n",
    "def start(url):\n",
    "    word_list = []\n",
    "    source_code = requests.get(url).text\n",
    "    soup = BeautifulSoup(source_code, 'lxml')\n",
    "    for post_text in soup.findAll('a', {'class': 'mw-redirect'}):\n",
    "        content = post_text.string\n",
    "        words = content.lower().split()\n",
    "        for each_word in words:\n",
    "            word_list.append(each_word)\n",
    "    clean_up_list(word_list)\n",
    "    \n",
    "    \n",
    "    \n",
    "def clean_up_list(word_list):\n",
    "    clean_word_list = []\n",
    "    for word in word_list:\n",
    "        symbols = \"!@#$%^&*()_+~`\\]';[/.,=,.<>?:\"\n",
    "        for i in range (0, len(symbols)):\n",
    "            word = word.replace(symbols[i], \"\")\n",
    "        if len(word) > 0:\n",
    "            clean_word_list.append(word)\n",
    "    creat_dictionary(clean_word_list)\n",
    "    \n",
    "\n",
    "def creat_dictionary(clean_word_list):\n",
    "    word_count = {}\n",
    "    for word in clean_word_list:\n",
    "        if word in word_count:\n",
    "            word_count[word] += 1\n",
    "        else:\n",
    "            word_count[word] = 1\n",
    "            \n",
    "    for key, value in sorted(word_count.items(), key = operator.itemgetter(1)):\n",
    "        # sorted function : the first parameter sepcifies the collection to be sorte; the second parameter specifies the criterion for sorting\n",
    "        # operator.itemgetter(0) returns keys, while operator.itemgetter(1) returns values\n",
    "        print (key, value)\n",
    "            \n",
    "start(\"https://en.wikipedia.org/wiki/Bayesian_inference\")\n"
   ]
  },
  {
   "cell_type": "markdown",
   "metadata": {},
   "source": [
    "## Convert data to binary using struct"
   ]
  },
  {
   "cell_type": "code",
   "execution_count": 51,
   "metadata": {
    "collapsed": false
   },
   "outputs": [
    {
     "name": "stdout",
     "output_type": "stream",
     "text": [
      "b'\\x06\\x00\\x00\\x00\\x13\\x00\\x00\\x00\\xaeG\\x91@'\n",
      "4\n",
      "4\n",
      "12\n",
      "(6, 19, 4.539999961853027)\n"
     ]
    }
   ],
   "source": [
    "from struct import *\n",
    "\n",
    "# store as bytes data\n",
    "packed_data = pack('iif', 6, 19, 4.54)   # i denotes integer, f denotes float\n",
    "print(packed_data)\n",
    "\n",
    "print(calcsize('i'))\n",
    "print(calcsize('f'))\n",
    "print(calcsize('iif'))\n",
    "\n",
    "# to get data back to normal\n",
    "original_data = unpack('iif', b'\\x06\\x00\\x00\\x00\\x13\\x00\\x00\\x00\\xaeG\\x91@')\n",
    "print(original_data)"
   ]
  }
 ],
 "metadata": {
  "kernelspec": {
   "display_name": "Python 3",
   "language": "python",
   "name": "python3"
  },
  "language_info": {
   "codemirror_mode": {
    "name": "ipython",
    "version": 3
   },
   "file_extension": ".py",
   "mimetype": "text/x-python",
   "name": "python",
   "nbconvert_exporter": "python",
   "pygments_lexer": "ipython3",
   "version": "3.4.3"
  }
 },
 "nbformat": 4,
 "nbformat_minor": 0
}
